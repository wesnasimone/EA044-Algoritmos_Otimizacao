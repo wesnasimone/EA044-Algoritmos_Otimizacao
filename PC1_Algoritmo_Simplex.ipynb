{
  "nbformat": 4,
  "nbformat_minor": 0,
  "metadata": {
    "colab": {
      "provenance": [],
      "authorship_tag": "ABX9TyPnS0mwcUHzYpCGvRBAG+Yz",
      "include_colab_link": true
    },
    "kernelspec": {
      "name": "python3",
      "display_name": "Python 3"
    },
    "language_info": {
      "name": "python"
    }
  },
  "cells": [
    {
      "cell_type": "markdown",
      "metadata": {
        "id": "view-in-github",
        "colab_type": "text"
      },
      "source": [
        "<a href=\"https://colab.research.google.com/github/wesnasimone/EA044-Algoritmos_Otimizacao/blob/main/PC1_Algoritmo_Simplex.ipynb\" target=\"_parent\"><img src=\"https://colab.research.google.com/assets/colab-badge.svg\" alt=\"Open In Colab\"/></a>"
      ]
    },
    {
      "cell_type": "markdown",
      "source": [
        "##################################################\n",
        "\n",
        "        Nome: Wesna Simone Bulla de Araujo\n",
        "        RA: 22584\n",
        "        Curso: EA044 - A\n",
        "\n",
        "##################################################"
      ],
      "metadata": {
        "id": "_QS1QTiHxdPD"
      }
    },
    {
      "cell_type": "markdown",
      "source": [
        "## O algoritmo Simplex ✍"
      ],
      "metadata": {
        "id": "2TsWkLN9yMSN"
      }
    },
    {
      "cell_type": "code",
      "source": [
        "# Importa Bibliotecas\n",
        "import numpy as np\n",
        "import pandas as pd"
      ],
      "metadata": {
        "id": "ScQDY_CbeowH"
      },
      "execution_count": null,
      "outputs": []
    },
    {
      "cell_type": "markdown",
      "source": [
        "### Função simplex"
      ],
      "metadata": {
        "id": "NNKh1LXOzBiH"
      }
    },
    {
      "cell_type": "code",
      "source": [
        "#Resolvendo método simplex\n",
        "#vetor_padrao: matriz inicial do problema\n",
        "#fase: indica se o problema possui duas ou uma fase. Default: fase 0 --> indica uma fase (só inequações de menor igual)\n",
        "#qtd_c: quatidade de variaveis do problema\n",
        "#qtd_r:quantidade de restrições\n",
        "#vetor_c: vetor com os coeficientes da função objetivo\n",
        "def calcula_simplex(vetor_padrao, qtd_c, qtd_r, vetor_c, fase = 0):\n",
        "  solucao = True\n",
        "  ciclo = 0\n",
        "  tam = len(vetor_padrao[0])\n",
        "  while solucao:\n",
        "\n",
        "    #identifica variavel de entrada e saida\n",
        "    menor_custo = min(vetor_padrao[0][:-1])\n",
        "    if menor_custo >= 0:                                                          #se for verdade o problema ou tem uma única solução ou multiplas\n",
        "      solucao = False\n",
        "      if fase == 0:\n",
        "        print('------------------------------')\n",
        "        print('')\n",
        "        if vetor_padrao[0].count(0) > ((len(vetor_padrao[0])-1)-qtd_c):\n",
        "          print('Problema de Multiplas soluções')\n",
        "        else:\n",
        "          print('Problema de uma única solução')\n",
        "\n",
        "        #print(f'Solução Ótima: {vetor_padrao[0][tam-1]}')\n",
        "        tabela_final = pd.DataFrame(vetor_padrao)\n",
        "        vetor_x = []\n",
        "        for c in range(qtd_c):\n",
        "          if tabela_final[c].tolist().count(0) == qtd_r:\n",
        "            x = tabela_final[tam-1][(tabela_final[c].tolist().index(1))]\n",
        "            print(f'x{c+1} = {x}')\n",
        "          else:\n",
        "            x = 0\n",
        "            print(f'x{c+1} = {x}')\n",
        "          vetor_x.append(x)\n",
        "        total = sum(np.array(vetor_x)*np.array(vetor_c))\n",
        "        print(f'Solução Ótima: {total}')\n",
        "    else:                                                                         #se não, determina-se a base de saida\n",
        "      entra_base = vetor_padrao[0].index(menor_custo)\n",
        "      valor_saida_base = []\n",
        "      for c in range(qtd_r):\n",
        "        if vetor_padrao[c+1][entra_base] > 0:\n",
        "          sai_base = vetor_padrao[c+1][tam-1]/vetor_padrao[c+1][entra_base]\n",
        "          valor_saida_base.append(sai_base)\n",
        "        else:\n",
        "          valor_saida_base.append(np.nan)\n",
        "      if valor_saida_base.count(np.nan) == len(valor_saida_base):                 #se os valores candidadtos para sairem da base forem negativos\n",
        "        print('Problema ilimitado')                                               #o problema é ilimitado\n",
        "        solucao = False\n",
        "      else:                                                                       #caso contrário uma variavel sairá da base e uma nova iteração se iniciará\n",
        "        menor_valor = min(x for x in valor_saida_base if x is not np.nan)\n",
        "        base_que_sai = (valor_saida_base.index(menor_valor))+1\n",
        "\n",
        "        ############# Iterações ###############\n",
        "\n",
        "        #colocar 1 na variavel de entrada\n",
        "        aux = vetor_padrao[base_que_sai][entra_base]\n",
        "        vetor_padrao[base_que_sai] = (np.array(vetor_padrao[base_que_sai])/aux).tolist()\n",
        "\n",
        "        #zerar todas as outras linhas da coluna da variavel de entrada\n",
        "        for c in range(len(vetor_padrao)):\n",
        "          if c != base_que_sai:\n",
        "            vetor_padrao[c] = (np.array(vetor_padrao[c]) + ((np.array(vetor_padrao[base_que_sai]))*(-1)*vetor_padrao[c][entra_base])).tolist()\n",
        "        simplex = pd.DataFrame(vetor_padrao)\n",
        "        print(f'------- Iteração {ciclo} -------')\n",
        "        print(simplex)\n",
        "        print('')\n",
        "        ciclo = ciclo + 1\n",
        "  return ciclo"
      ],
      "metadata": {
        "id": "Ql8HXRABAFYF"
      },
      "execution_count": null,
      "outputs": []
    },
    {
      "cell_type": "markdown",
      "source": [
        "###Entradas"
      ],
      "metadata": {
        "id": "5SGBuJ2Ty23y"
      }
    },
    {
      "cell_type": "code",
      "execution_count": null,
      "metadata": {
        "colab": {
          "base_uri": "https://localhost:8080/"
        },
        "id": "RyYzNCF7A9Up",
        "outputId": "752b63ea-4f1f-4050-a525-114a4bc01463"
      },
      "outputs": [
        {
          "name": "stdout",
          "output_type": "stream",
          "text": [
            "Quantos coeficientes tem a sua função objetivo: 2\n",
            "Seu problema é de Minimização? Digite S ou N: n\n",
            "Digite o coeficiente x1: 6\n",
            "Digite o coeficiente x2: 9\n"
          ]
        }
      ],
      "source": [
        "#Coeficientes da função objetivo\n",
        "qtd_c = int(input('Quantos coeficientes tem a sua função objetivo: '))\n",
        "tipo_problema = input('Seu problema é de Minimização? Digite S ou N: ')\n",
        "\n",
        "vetor_c = []\n",
        "for c in range(qtd_c):\n",
        "  valor_c = float(input(f'Digite o coeficiente x{c+1}: '))\n",
        "  vetor_c.append(valor_c)"
      ]
    },
    {
      "cell_type": "code",
      "source": [
        "#Coeficientes das restrições (lado esquerdo da desigualdade ou igualdade)\n",
        "qtd_r = int(input('Quantos restrições tem seu problema: '))\n",
        "\n",
        "vetor_r = [[] for c in range(qtd_r)]\n",
        "for c in range(qtd_r):\n",
        "  print(f'------ Restrição {c+1} ------')\n",
        "  for d in range(qtd_c):\n",
        "    valor_r = float(input(f'Digite o coeficiente x{d+1}: '))\n",
        "    vetor_r[c].append(valor_r)"
      ],
      "metadata": {
        "colab": {
          "base_uri": "https://localhost:8080/"
        },
        "id": "jf5g1sLCE_2p",
        "outputId": "e89d795a-e2ac-4764-dab7-6ced1965a47d"
      },
      "execution_count": null,
      "outputs": [
        {
          "name": "stdout",
          "output_type": "stream",
          "text": [
            "Quantos restrições tem seu problema: 4\n",
            "------ Restrição 1 ------\n",
            "Digite o coeficiente x1: 5\n",
            "Digite o coeficiente x2: 18\n",
            "------ Restrição 2 ------\n",
            "Digite o coeficiente x1: 1\n",
            "Digite o coeficiente x2: 1\n",
            "------ Restrição 3 ------\n",
            "Digite o coeficiente x1: 1\n",
            "Digite o coeficiente x2: 0\n",
            "------ Restrição 4 ------\n",
            "Digite o coeficiente x1: 0\n",
            "Digite o coeficiente x2: 1\n"
          ]
        }
      ]
    },
    {
      "cell_type": "code",
      "source": [
        "#Coeficientes das restrições (lado direito da desigualdade ou igualdade)\n",
        "vetor_b = []\n",
        "vetor_b.append(0)\n",
        "for c in range(qtd_r):\n",
        "  print(f'------ Restrição {c+1} ------')\n",
        "  valor_b = float(input(f'Digite o coeficiente b{c+1}: '))\n",
        "  vetor_b.append(valor_b)"
      ],
      "metadata": {
        "colab": {
          "base_uri": "https://localhost:8080/"
        },
        "id": "8CJz9ADabgkG",
        "outputId": "18a03e8d-ee0f-43e6-e131-daabc31f14d6"
      },
      "execution_count": null,
      "outputs": [
        {
          "name": "stdout",
          "output_type": "stream",
          "text": [
            "------ Restrição 1 ------\n",
            "Digite o coeficiente b1: 45\n",
            "------ Restrição 2 ------\n",
            "Digite o coeficiente b2: 6.5\n",
            "------ Restrição 3 ------\n",
            "Digite o coeficiente b3: 5\n",
            "------ Restrição 4 ------\n",
            "Digite o coeficiente b4: 2\n"
          ]
        }
      ]
    },
    {
      "cell_type": "code",
      "source": [
        "#Determinar o tipo de cada restrição\n",
        "#igual: =\n",
        "#maior igual: >\n",
        "#menor igual: <\n",
        "\n",
        "vetor_tipo = []\n",
        "print('Qual é o tipo de cada restrição em ordem?')\n",
        "for c in range(qtd_r):\n",
        "    valor_t = input(f'Digite o tipo da restrição {c+1}: ')\n",
        "    vetor_tipo.append(valor_t)\n"
      ],
      "metadata": {
        "colab": {
          "base_uri": "https://localhost:8080/"
        },
        "id": "NUIRzD2RLVnZ",
        "outputId": "6ca909e4-12a1-4cfc-9763-1ba9d15542de"
      },
      "execution_count": null,
      "outputs": [
        {
          "name": "stdout",
          "output_type": "stream",
          "text": [
            "Qual é o tipo de cada restrição em ordem?\n",
            "Digite o tipo da restrição 1: <\n",
            "Digite o tipo da restrição 2: <\n",
            "Digite o tipo da restrição 3: <\n",
            "Digite o tipo da restrição 4: >\n"
          ]
        }
      ]
    },
    {
      "cell_type": "markdown",
      "source": [
        "### Problema na forma padrão e Solução"
      ],
      "metadata": {
        "id": "hauMb1l7zGdz"
      }
    },
    {
      "cell_type": "code",
      "source": [
        "#Montagem das matrizes iniciais e chamada ao método simplex\n",
        "\n",
        "# Tipo 1 --> problema com equações de maior igual ou igual\n",
        "if ('=' in vetor_tipo) or ('>' in vetor_tipo):\n",
        "\n",
        "  #variaveis para auxiliar na adição das variaveis artificiais ao problema\n",
        "  desloca = 0\n",
        "  qtd_maior_igual = vetor_tipo.count('=') + vetor_tipo.count('>')\n",
        "  y1 = np.ones(1)\n",
        "  y2 = np.zeros(qtd_maior_igual-1)\n",
        "  y3 = np.ones(qtd_maior_igual)\n",
        "  y4 = np.zeros((qtd_c + qtd_r + qtd_maior_igual)-len(y3))\n",
        "  y_concatenado = np.concatenate(((y1),y2), axis=0).tolist()\n",
        "  y_artificial = np.concatenate(((y4),y3), axis=0).tolist()\n",
        "\n",
        "  #variaveis para auxiliar na adição das variaveis de folga ou excesso ao problema\n",
        "  v1 = np.ones(1)\n",
        "  v2 = np.zeros(qtd_r-1)\n",
        "  v3 = np.zeros(qtd_r)\n",
        "  v_concatenado = np.concatenate(((v1),v2), axis=0).tolist()\n",
        "  vetor_padrao = []\n",
        "\n",
        "  #adiciona funçao objetivo artificial\n",
        "  vetor_padrao.append(y_artificial)\n",
        "  vetor_padrao[0].append(0)                                                       # adiciona b=0 a função objetivo artificial\n",
        "\n",
        "  #adicionando variaveis de excesso ou de folga\n",
        "  for c in range (qtd_r):\n",
        "    if ((vetor_tipo[c] == '=') or (vetor_tipo[c] == '>')):                        # variavel de excesso\n",
        "      v_final = np.roll(np.array(v_concatenado)*(-1), c)\n",
        "      r_padrao = np.concatenate(((vetor_r[c]),v_final), axis=0).tolist()\n",
        "    else:\n",
        "      v_final = np.roll(v_concatenado, c)                                         # variavel de folga\n",
        "      r_padrao = np.concatenate(((vetor_r[c]),v_final), axis=0).tolist()\n",
        "    #verifica os valores de b\n",
        "    if vetor_b[c+1] < 0:\n",
        "        r_padrao = (np.array(r_padrao)*(-1).tolist())\n",
        "        novo_b = vetor_b[c+1]*(-1)\n",
        "    else:\n",
        "        novo_b = vetor_b[c+1]\n",
        "\n",
        "    #adicionando as variaveis artificiais nas funções maior igual\n",
        "    if ((vetor_tipo[c] == '=') or (vetor_tipo[c] == '>')):\n",
        "        y_final = np.roll(y_concatenado, desloca)\n",
        "        y_padrao = np.concatenate(((r_padrao),y_final), axis=0).tolist()\n",
        "        desloca = desloca + 1\n",
        "        vetor_padrao.append(y_padrao)\n",
        "        vetor_padrao[c+1].append(novo_b)\n",
        "    else:\n",
        "      #adicionando as variaveis artificiais nas funções menor igual\n",
        "      for i in range(qtd_maior_igual):\n",
        "        r_padrao.append(0)\n",
        "      vetor_padrao.append(r_padrao)\n",
        "      vetor_padrao[c+1].append(novo_b)\n",
        "\n",
        "  print('----- Matriz padrão Fase I -----')\n",
        "  print(pd.DataFrame(vetor_padrao))\n",
        "\n",
        "  #Modelando a fase I\n",
        "  #zerar variaveis artificiais\n",
        "  for c in range(qtd_r):\n",
        "    if ((vetor_tipo[c] == '=') or (vetor_tipo[c] == '>')):\n",
        "       vetor_padrao[0] = ((np.array(vetor_padrao[c+1])*(-1)) + np.array(vetor_padrao[0])).tolist()\n",
        "  print(pd.DataFrame(vetor_padrao))\n",
        "  print('')\n",
        "\n",
        "  #rearranja matriz para retirar as variaveis artificiais da base --> RHS deve ser 0 para existir solução\n",
        "  ciclo = calcula_simplex(vetor_padrao, qtd_c, qtd_r, vetor_c, fase = 1)\n",
        "  print('----- Fim Fase I -----')\n",
        "  print('')\n",
        "\n",
        "  pos_ultimo_valor = len(vetor_padrao[0])\n",
        "  if vetor_padrao[0][pos_ultimo_valor-1] == 0:                                    # se RHS é zero inicia-se a fase 2 inserindo de fato a função objetivo real\n",
        "    #Modelando a fase II\n",
        "    #remover coluna das variaveis artificiais\n",
        "    print('----- Matriz padrão Fase II -----')\n",
        "    for d in range(qtd_maior_igual):\n",
        "      for c in range (len(vetor_padrao)):\n",
        "        vetor_padrao[c].pop(pos_ultimo_valor-(d+2))\n",
        "        #vetor_padrao[c].pop(pos_ultimo_valor-3)\n",
        "    #adicionar a função objetivo original\n",
        "    if tipo_problema.upper() == 'S':\n",
        "      vetor_padrao[0] = (np.concatenate(((vetor_c),v3), axis=0).tolist())\n",
        "    else:\n",
        "      vetor_padrao[0] = (np.concatenate(((np.array(vetor_c)*(-1)),v3), axis=0).tolist())\n",
        "    vetor_padrao[0].append(vetor_b[0])\n",
        "    print(pd.DataFrame(vetor_padrao))\n",
        "    #rearranja matriz\n",
        "    for c in range(qtd_r):\n",
        "      if ((vetor_tipo[c] == '=') or (vetor_tipo[c] == '>')):\n",
        "          vetor_padrao[0] = ((np.array(vetor_padrao[c+1])*(-1)*vetor_padrao[0][c]) + np.array(vetor_padrao[0])).tolist()\n",
        "    print(pd.DataFrame(vetor_padrao))\n",
        "    print('')\n",
        "    ciclo1 = calcula_simplex(vetor_padrao, qtd_c, qtd_r, vetor_c)                                        #Chama a função para calcular a solução final\n",
        "    print(f'Ciclo Fase I + Fase II: {ciclo + ciclo1}')\n",
        "  else:                                                                           # Caso contrário o problema é inviável\n",
        "    print('Problema Inviável!')\n",
        "\n",
        "############################################################################################################################\n",
        "\n",
        "# Tipo 2 --> problema com equações de menor igual\n",
        "else:\n",
        "  #variaveis para auxiliar na adição das variaveis de folga ao problema\n",
        "  v1 = (np.ones(1))\n",
        "  v2 = np.zeros(qtd_r-1)\n",
        "  v3 = np.zeros(qtd_r)\n",
        "  v_concatenado = np.concatenate(((v1),v2), axis=0).tolist()\n",
        "  vetor_padrao = []\n",
        "\n",
        "  #adicionando a função objetivo\n",
        "  if tipo_problema.upper() == 'S':\n",
        "    vetor_padrao.append(np.concatenate(((vetor_c),v3), axis=0).tolist())\n",
        "  else:\n",
        "    vetor_padrao.append(np.concatenate(((np.array(vetor_c)*(-1)),v3), axis=0).tolist())\n",
        "  vetor_padrao[0].append(vetor_b[0])\n",
        "  for c in range (qtd_r):\n",
        "    #adicionando variaveis de folga\n",
        "    v_final = np.roll(v_concatenado, c)\n",
        "    r_padrao = np.concatenate(((vetor_r[c]),v_final), axis=0).tolist()\n",
        "    #adicionando os valores de b\n",
        "    if vetor_b[c+1] < 0:\n",
        "      vetor_padrao.append(np.array(r_padrao)*(-1).tolist())\n",
        "      vetor_padrao[c+1].append(vetor_b[c+1]*(-1))\n",
        "    else:\n",
        "      vetor_padrao.append(r_padrao)\n",
        "      vetor_padrao[c+1].append(vetor_b[c+1])\n",
        "\n",
        "  #Chama a função para calcular a solução final\n",
        "  print('----- Matriz padrão -----')\n",
        "  print(pd.DataFrame(vetor_padrao))\n",
        "  print('')\n",
        "  ciclo = calcula_simplex(vetor_padrao, qtd_c, qtd_r, vetor_c)\n",
        "  print(f'Ciclo Fase I: {ciclo}')"
      ],
      "metadata": {
        "colab": {
          "base_uri": "https://localhost:8080/"
        },
        "id": "ETM4tU4IXMQ2",
        "outputId": "1f2ff615-2a52-4621-97f7-d8cb9e3518ba"
      },
      "execution_count": null,
      "outputs": [
        {
          "output_type": "stream",
          "name": "stdout",
          "text": [
            "----- Matriz padrão Fase I -----\n",
            "     0     1    2    3    4    5    6     7\n",
            "0  0.0   0.0  0.0  0.0  0.0  0.0  1.0   0.0\n",
            "1  5.0  18.0  1.0  0.0  0.0  0.0  0.0  45.0\n",
            "2  1.0   1.0  0.0  1.0  0.0  0.0  0.0   6.5\n",
            "3  1.0   0.0  0.0  0.0  1.0  0.0  0.0   5.0\n",
            "4  0.0   1.0 -0.0 -0.0 -0.0 -1.0  1.0   2.0\n",
            "     0     1    2    3    4    5    6     7\n",
            "0  0.0  -1.0  0.0  0.0  0.0  1.0  0.0  -2.0\n",
            "1  5.0  18.0  1.0  0.0  0.0  0.0  0.0  45.0\n",
            "2  1.0   1.0  0.0  1.0  0.0  0.0  0.0   6.5\n",
            "3  1.0   0.0  0.0  0.0  1.0  0.0  0.0   5.0\n",
            "4  0.0   1.0 -0.0 -0.0 -0.0 -1.0  1.0   2.0\n",
            "\n",
            "------- Iteração 0 -------\n",
            "     0    1    2    3    4     5     6    7\n",
            "0  0.0  0.0  0.0  0.0  0.0   0.0   1.0  0.0\n",
            "1  5.0  0.0  1.0  0.0  0.0  18.0 -18.0  9.0\n",
            "2  1.0  0.0  0.0  1.0  0.0   1.0  -1.0  4.5\n",
            "3  1.0  0.0  0.0  0.0  1.0   0.0   0.0  5.0\n",
            "4  0.0  1.0 -0.0 -0.0 -0.0  -1.0   1.0  2.0\n",
            "\n",
            "----- Fim Fase I -----\n",
            "\n",
            "----- Matriz padrão Fase II -----\n",
            "     0    1    2    3    4     5    6\n",
            "0 -6.0 -9.0  0.0  0.0  0.0   0.0  0.0\n",
            "1  5.0  0.0  1.0  0.0  0.0  18.0  9.0\n",
            "2  1.0  0.0  0.0  1.0  0.0   1.0  4.5\n",
            "3  1.0  0.0  0.0  0.0  1.0   0.0  5.0\n",
            "4  0.0  1.0 -0.0 -0.0 -0.0  -1.0  2.0\n",
            "     0    1    2    3    4     5    6\n",
            "0 -6.0 -9.0  0.0  0.0  0.0   0.0  0.0\n",
            "1  5.0  0.0  1.0  0.0  0.0  18.0  9.0\n",
            "2  1.0  0.0  0.0  1.0  0.0   1.0  4.5\n",
            "3  1.0  0.0  0.0  0.0  1.0   0.0  5.0\n",
            "4  0.0  1.0 -0.0 -0.0 -0.0  -1.0  2.0\n",
            "\n",
            "------- Iteração 0 -------\n",
            "     0    1    2    3    4     5     6\n",
            "0 -6.0  0.0  0.0  0.0  0.0  -9.0  18.0\n",
            "1  5.0  0.0  1.0  0.0  0.0  18.0   9.0\n",
            "2  1.0  0.0  0.0  1.0  0.0   1.0   4.5\n",
            "3  1.0  0.0  0.0  0.0  1.0   0.0   5.0\n",
            "4  0.0  1.0 -0.0 -0.0 -0.0  -1.0   2.0\n",
            "\n",
            "------- Iteração 1 -------\n",
            "          0    1         2    3    4    5     6\n",
            "0 -3.500000  0.0  0.500000  0.0  0.0  0.0  22.5\n",
            "1  0.277778  0.0  0.055556  0.0  0.0  1.0   0.5\n",
            "2  0.722222  0.0 -0.055556  1.0  0.0  0.0   4.0\n",
            "3  1.000000  0.0  0.000000  0.0  1.0  0.0   5.0\n",
            "4  0.277778  1.0  0.055556  0.0  0.0  0.0   2.5\n",
            "\n",
            "------- Iteração 2 -------\n",
            "     0    1    2    3    4     5     6\n",
            "0  0.0  0.0  1.2  0.0  0.0  12.6  28.8\n",
            "1  1.0  0.0  0.2  0.0  0.0   3.6   1.8\n",
            "2  0.0  0.0 -0.2  1.0  0.0  -2.6   2.7\n",
            "3  0.0  0.0 -0.2  0.0  1.0  -3.6   3.2\n",
            "4  0.0  1.0  0.0  0.0  0.0  -1.0   2.0\n",
            "\n",
            "------------------------------\n",
            "\n",
            "Problema de uma única solução\n",
            "x1 = 1.7999999999999998\n",
            "x2 = 2.0\n",
            "Solução Ótima: 28.799999999999997\n",
            "Ciclo Fase I + Fase II: 4\n"
          ]
        }
      ]
    }
  ]
}