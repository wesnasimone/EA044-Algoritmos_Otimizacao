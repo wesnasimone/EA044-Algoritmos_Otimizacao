{
  "nbformat": 4,
  "nbformat_minor": 0,
  "metadata": {
    "colab": {
      "provenance": [],
      "authorship_tag": "ABX9TyMKhqeNtf5gb9+gj21uvy2B",
      "include_colab_link": true
    },
    "kernelspec": {
      "name": "python3",
      "display_name": "Python 3"
    },
    "language_info": {
      "name": "python"
    }
  },
  "cells": [
    {
      "cell_type": "markdown",
      "metadata": {
        "id": "view-in-github",
        "colab_type": "text"
      },
      "source": [
        "<a href=\"https://colab.research.google.com/github/wesnasimone/EA044-Algoritmos_Otimizacao/blob/main/Algoritmo_Branch_and_Bound_Wesna_225843.ipynb\" target=\"_parent\"><img src=\"https://colab.research.google.com/assets/colab-badge.svg\" alt=\"Open In Colab\"/></a>"
      ]
    },
    {
      "cell_type": "markdown",
      "source": [
        "##################################################\n",
        "\n",
        "    Nome: Wesna Simone Bulla de Araujo\n",
        "    RA: 225843\n",
        "    Curso: EA044 - A\n",
        "##################################################"
      ],
      "metadata": {
        "id": "7_Dwz8dth_d9"
      }
    },
    {
      "cell_type": "markdown",
      "source": [
        "##Algoritmo Branch and Bound (B&B) 🌳"
      ],
      "metadata": {
        "id": "aU2hKTpcWeGn"
      }
    },
    {
      "cell_type": "code",
      "execution_count": null,
      "metadata": {
        "id": "8m8NH5C2fEFZ"
      },
      "outputs": [],
      "source": [
        "#Bibliotecas\n",
        "import numpy as np\n",
        "import pandas as pd\n",
        "from scipy.optimize import linprog\n",
        "import copy"
      ]
    },
    {
      "cell_type": "markdown",
      "source": [
        "### Função B&B"
      ],
      "metadata": {
        "id": "K7NgpEnAZeRk"
      }
    },
    {
      "cell_type": "code",
      "source": [
        "#Ramificações do algoritmo Branch and Bound para achar soluções inteiras\n",
        "#x_res: vetor de resultados da ramificação zero\n",
        "#LS: valor ótimo obtido para a solução não inteira da ramificação zero\n",
        "#LI: valor limite inferior para a solução ótima inteira\n",
        "#vetor_c: vetor com as constantes da função objetivo\n",
        "#vetor_r: vetor de listas com as constantes de todas as restrições\n",
        "#vetor_b: vetor com os valores do lado direito da igualdade das restrições\n",
        "#limites_var: vetor de listas dos limites inferios/superios das variaveis do problema\n",
        "\n",
        "def branch_and_bound(x_res, LS, LI, vetor_c, vetor_r, vetor_b, limites_var):\n",
        "\n",
        "  vetor_r_geral = [[],[]]\n",
        "  vetor_b_geral = [[],[]]\n",
        "  vetor_r1 = copy.deepcopy(vetor_r)\n",
        "  vetor_r2 = copy.deepcopy(vetor_r)\n",
        "  vetor_b1 = copy.deepcopy(vetor_b)\n",
        "  vetor_b2 = copy.deepcopy(vetor_b)\n",
        "\n",
        "  flag_branch = 0\n",
        "  solucao = True\n",
        "  count_bb = 0\n",
        "  while solucao:\n",
        "\n",
        "    nova_restricao = []\n",
        "    vetor_r_aux1 = []\n",
        "    vetor_r_aux2 = []\n",
        "    vetor_b_aux1 = []\n",
        "    vetor_b_aux2 = []\n",
        "    lista_nova_restricao = []\n",
        "    lista_nova_restricao1 = []\n",
        "\n",
        "    #Define novas limitações para as variaveis\n",
        "    for c in range(qtd_c):\n",
        "      decimal = int(str(round(x_res[c],2)).split('.')[1])\n",
        "      nova_restricao.append(abs(50 - decimal))                      # escolhe a variável cuja parte decimal é mais próxima de 0.5\n",
        "      indice = nova_restricao.index(min(nova_restricao))\n",
        "    x_nova_restricao = round(x_res[indice],2)\n",
        "\n",
        "    #Define intervalos para o novo valor de x\n",
        "    x_res1 = int(x_nova_restricao)\n",
        "    x_res2 = x_res1 + 1\n",
        "\n",
        "    #Prepara novas restrições com base na nova variável em análise (2 ramificações)\n",
        "    for c in range(qtd_c):\n",
        "        if indice == c:\n",
        "          lista_nova_restricao.append(1)          # equação menor que\n",
        "          lista_nova_restricao1.append(-1)        # equação maior que\n",
        "        else:\n",
        "          lista_nova_restricao.append(0)\n",
        "          lista_nova_restricao1.append(0)\n",
        "\n",
        "    #Inicia as ramificações para as duas novas condições\n",
        "    #Branch 0\n",
        "    if (flag_branch == 0):\n",
        "      #Adiciona as novas restrições ao problema antigo inicial\n",
        "      vetor_r1.append(lista_nova_restricao)\n",
        "      vetor_b1.append(x_res1)\n",
        "      vetor_r2.append(lista_nova_restricao1)\n",
        "      vetor_b2.append(x_res2*(-1))\n",
        "\n",
        "      #Adiciona a nova branch (as duas ramificações geradas) em um vetor global\n",
        "      vetor_r_geral[0].append(vetor_r1)\n",
        "      vetor_b_geral[0].append(vetor_b1)\n",
        "      vetor_r_geral[1].append(vetor_r2)\n",
        "      vetor_b_geral[1].append(vetor_b2)\n",
        "\n",
        "      #Usa o algoritmo simplex para achar uma outra solução com base nos novos valores das ramificações\n",
        "      res1 = linprog(vetor_c, A_ub=vetor_r1, b_ub=vetor_b1, bounds=limites_var, method='simplex')\n",
        "      res2 = linprog(vetor_c, A_ub=vetor_r2, b_ub=vetor_b2, bounds=limites_var, method='simplex')\n",
        "    #Branch 1,2...\n",
        "    else:\n",
        "      #Se a ramificação anterior surgiu da primeira possibilidade de ramificação\n",
        "      if flag_branch == 1:\n",
        "          vetor_r_aux1 = copy.deepcopy(vetor_r_geral[0][(len(vetor_r_geral[0]))-1])\n",
        "          vetor_b_aux1 = copy.deepcopy(vetor_b_geral[0][(len(vetor_r_geral[0]))-1])\n",
        "          vetor_r_aux2 = copy.deepcopy(vetor_r_geral[0][(len(vetor_r_geral[0]))-1])\n",
        "          vetor_b_aux2 = copy.deepcopy(vetor_b_geral[0][(len(vetor_r_geral[0]))-1])\n",
        "\n",
        "      #Se a ramificação anterior surgiu da segunda possibilidade de ramificação\n",
        "      else:\n",
        "          vetor_r_aux1 = copy.deepcopy(vetor_r_geral[1][(len(vetor_r_geral[0]))-1])\n",
        "          vetor_b_aux1 = copy.deepcopy(vetor_b_geral[1][(len(vetor_r_geral[0]))-1])\n",
        "          vetor_r_aux2 = copy.deepcopy(vetor_r_geral[1][(len(vetor_r_geral[0]))-1])\n",
        "          vetor_b_aux2 = copy.deepcopy(vetor_b_geral[1][(len(vetor_r_geral[0]))-1])\n",
        "\n",
        "      #Dependendo da ramificação adiciona às restrições anteriores a nova restrição\n",
        "      vetor_r_aux1.append(lista_nova_restricao)\n",
        "      vetor_b_aux1.append(x_res1)\n",
        "      vetor_r_aux2.append(lista_nova_restricao1)\n",
        "      vetor_b_aux2.append(x_res2*(-1))\n",
        "\n",
        "      #Armazena as novas restrições no vetor global para ser utilizado nas próximas ramificações\n",
        "      vetor_r_geral[0].append(vetor_r_aux1)\n",
        "      vetor_b_geral[0].append(vetor_b_aux1)\n",
        "      vetor_r_geral[1].append(vetor_r_aux2)\n",
        "      vetor_b_geral[1].append(vetor_b_aux2)\n",
        "\n",
        "      #Usa o algoritmo simplex para achar uma outra solução com base nos novos valores das ramificações\n",
        "      res1 = linprog(vetor_c, A_ub=vetor_r_aux1, b_ub=vetor_b_aux1, bounds=limites_var, method='simplex')\n",
        "      res2 = linprog(vetor_c, A_ub=vetor_r_aux2, b_ub=vetor_b_aux2, bounds=limites_var, method='simplex')\n",
        "\n",
        "    ###############################################################################################\n",
        "\n",
        "    # Análise das soluções encontradas #\n",
        "\n",
        "    #Contador da quantidade de vezes que foi necessário uma ramificação\n",
        "    count_bb = count_bb + 1\n",
        "\n",
        "    count1 = 0\n",
        "    count2 = 0\n",
        "    #define se existe alguma solução inteira\n",
        "    for c in range(qtd_c):\n",
        "      if (res1.x[c] == int(res1.x[c])):\n",
        "        count1 = count1 + 1\n",
        "      if (res2.x[c] == int(res2.x[c])):\n",
        "        count2 = count2 + 1\n",
        "\n",
        "    # Se a primeira possível ramificação ou a segunda possível ramificação deram valores inteiros\n",
        "    if (count1 == qtd_c) or (count2 == qtd_c):\n",
        "      # Se a primeira ramificação deu solução inteira\n",
        "      if count1 == qtd_c:\n",
        "        # verifica se o valor da função objetivo é menor que o limite superior e maior que o limite inferior\n",
        "        if (abs(res1.fun) < LS) and (abs(res1.fun) > LI):\n",
        "          # verifica se o valor da função objetivo é maior que o valor da função objetivo da segunda ramificação\n",
        "          # ou se o valor da função objetivo da segunda ramificação é maior que o limite superior\n",
        "          if (abs(res1.fun) >= abs(res2.fun)) or (abs(res2.fun) >= LS):\n",
        "            # verifica se a ramificação dois é inteira, se seu valor é maior que o valor da ramificação um e se\n",
        "            # a ramificação dois respeita os limites inferior e superior\n",
        "            if ((count2 == qtd_c) and (abs(res2.fun) >= abs(res1.fun)) and (abs(res2.fun) < LS) and (abs(res2.fun) > LI)):\n",
        "              #se sim, a solução proveniente da ramificação dois é a melhor solução inteira\n",
        "              x_vetor = res2.x\n",
        "              v_fun = res2.fun\n",
        "              ciclo = 2*(count_bb)+1\n",
        "              solucao = False\n",
        "            else:\n",
        "              #se não, a solução um de fato é a melhor solução inteira\n",
        "              x_vetor = res1.x\n",
        "              v_fun = res1.fun\n",
        "              ciclo = 2*(count_bb)+1\n",
        "              solucao = False\n",
        "          else:\n",
        "            # se a ramificação 1 não coincidir com todos os critérios\n",
        "            # analisa-se a ramificação dois, pode ela ainda pode ser inteira\n",
        "            if ((count2 == qtd_c) and (abs(res2.fun) < LS) and (abs(res2.fun) > LI)):\n",
        "              #se atender a todos os critérios a solução da ramificação dois é a resposta inteira buscada\n",
        "              x_vetor = res2.x\n",
        "              v_fun = res2.fun\n",
        "              ciclo = 2*(count_bb)+1\n",
        "              solucao = False\n",
        "            else:\n",
        "              #se não, verifica os valores dos limites para atualizar ou não o limite inferior\n",
        "              if (abs(res1.fun) < LS) and (abs(res1.fun) > LI):\n",
        "                LI = abs(res1.fun)\n",
        "              #faz da próxima variável o valor obtido pela ramificação dois\n",
        "              x_res = res2.x[:]\n",
        "              flag_branch = 2\n",
        "        else:\n",
        "          #solução da ramificação 1 não atende aos critérios do problema\n",
        "          #checa se a ramificação dois pode ser inteira e se atende aos critérios do problema\n",
        "          if ((count2 == qtd_c) and (abs(res2.fun) < LS) and (abs(res2.fun) > LI)):\n",
        "              #se sim, a solução proveniente da ramificação dois é a melhor solução inteira\n",
        "              x_vetor = res2.x\n",
        "              v_fun = res2.fun\n",
        "              ciclo = 2*(count_bb)+1\n",
        "              solucao = False\n",
        "          else:\n",
        "            #se não, verifica os valores dos limites para atualizar ou não o limite inferior\n",
        "            if (abs(res1.fun) < LS) and (abs(res1.fun) > LI):\n",
        "              LI = abs(res1.fun)\n",
        "            #faz da próxima variável o valor obtido pela ramificação dois\n",
        "            x_res = res2.x[:]\n",
        "            flag_branch = 2\n",
        "\n",
        "      else:\n",
        "        #Apenas a ramificação dois apresentou solução inteira\n",
        "        # verifica se o valor da função objetivo é menor que o limite superior e maior que o limite inferior\n",
        "        if (abs(res2.fun) < LS) and (abs(res2.fun) > LI):\n",
        "          # verifica se o valor da função objetivo é maior que o valor da função objetivo da segunda ramificação\n",
        "          # ou se o valor da função objetivo da segunda ramificação é maior que o limite superior\n",
        "          if (abs(res2.fun) >= abs(res1.fun)) or (abs(res1.fun) >= LS):\n",
        "            #se sim, a solução proveniente da ramificação dois é a melhor solução inteira\n",
        "            x_vetor = res2.x\n",
        "            v_fun = res2.fun\n",
        "            ciclo = 2*(count_bb)+1\n",
        "            solucao = False\n",
        "          else:\n",
        "            #se não, verifica os valores dos limites para atualizar ou não o limite inferior\n",
        "            if (abs(res2.fun) < LS) and (abs(res2.fun) > LI):\n",
        "              LI = abs(res2.fun)\n",
        "            #faz da próxima variável o valor obtido pela ramificação um\n",
        "            x_res = res1.x[:]\n",
        "            flag_branch = 1\n",
        "        else:\n",
        "          #solução da ramificação 2 não atende aos critérios do problema\n",
        "          #verifica os valores dos limites para atualizar ou não o limite inferior\n",
        "          if (abs(res2.fun) < LS) and (abs(res2.fun) > LI):\n",
        "            LI = abs(res2.fun)\n",
        "          #faz da próxima variável o valor obtido pela ramificação um\n",
        "          x_res = res1.x[:]\n",
        "          flag_branch = 1\n",
        "    else:\n",
        "      #Nenhuma solução inteira foi encontrada\n",
        "      #Escolhe aquela ramificação que possui solução mais próxima de LS\n",
        "      dif_LS = []\n",
        "      dif_LS.append(abs(LS - abs(res1.fun)))\n",
        "      dif_LS.append(abs(LS - abs(res2.fun)))\n",
        "      indice = dif_LS.index(min(dif_LS))\n",
        "      if indice == 0:\n",
        "        #faz da próxima variável o valor obtido pela ramificação um\n",
        "        x_res = res1.x[:]\n",
        "        flag_branch = 1\n",
        "      else:\n",
        "        #faz da próxima variável o valor obtido pela ramificação dois\n",
        "        x_res = res2.x[:]\n",
        "        flag_branch = 2\n",
        "  return x_vetor, v_fun, ciclo  #retorna os valores das variaveis, o valor da solução final e a quantidade de ramificações"
      ],
      "metadata": {
        "id": "WoQ9D-pvLAjR"
      },
      "execution_count": null,
      "outputs": []
    },
    {
      "cell_type": "markdown",
      "source": [
        "##Entradas"
      ],
      "metadata": {
        "id": "0pT5cJBsiJUL"
      }
    },
    {
      "cell_type": "markdown",
      "source": [
        "Observações 👀\n",
        "\n",
        " - Caso necessário colocar as inequações (coeficiente das inequações) no formato de inequação menor ou igual. Ex: x + y > 2 deve ser transformado para -x - y < -2;"
      ],
      "metadata": {
        "id": "UJIOuZtQkwmw"
      }
    },
    {
      "cell_type": "code",
      "source": [
        "#Coeficientes da função objetivo\n",
        "qtd_c = int(input('Quantos coeficientes tem a sua função objetivo: '))\n",
        "tipo_problema = input('Seu problema é de Minimização? Digite S ou N: ')\n",
        "\n",
        "vetor_c = []\n",
        "for c in range(qtd_c):\n",
        "  valor_c = float(input(f'Digite o coeficiente x{c+1}: '))\n",
        "  if tipo_problema.upper() == 'N':\n",
        "    valor_c = valor_c*(-1)\n",
        "  vetor_c.append(valor_c)"
      ],
      "metadata": {
        "colab": {
          "base_uri": "https://localhost:8080/"
        },
        "id": "eGD-0zKZiFry",
        "outputId": "7ad903d0-f8a2-4dcd-e3c6-1547765254a9"
      },
      "execution_count": null,
      "outputs": [
        {
          "name": "stdout",
          "output_type": "stream",
          "text": [
            "Quantos coeficientes tem a sua função objetivo: 2\n",
            "Seu problema é de Minimização? Digite S ou N: n\n",
            "Digite o coeficiente x1: 2\n",
            "Digite o coeficiente x2: 1\n"
          ]
        }
      ]
    },
    {
      "cell_type": "code",
      "source": [
        "#Coeficientes das restrições (lado esquerdo da desigualdade ou igualdade)\n",
        "qtd_r = int(input('Quantos restrições tem seu problema: '))\n",
        "\n",
        "vetor_r = [[] for c in range(qtd_r)]\n",
        "for c in range(qtd_r):\n",
        "  print(f'------ Restrição {c+1} ------')\n",
        "  for d in range(qtd_c):\n",
        "    valor_r = float(input(f'Digite o coeficiente x{d+1}: '))\n",
        "    vetor_r[c].append(valor_r)"
      ],
      "metadata": {
        "colab": {
          "base_uri": "https://localhost:8080/"
        },
        "id": "f5mhWA8Oirv1",
        "outputId": "12d8dedc-6110-4336-fcbf-a2410ddd638e"
      },
      "execution_count": null,
      "outputs": [
        {
          "name": "stdout",
          "output_type": "stream",
          "text": [
            "Quantos restrições tem seu problema: 3\n",
            "------ Restrição 1 ------\n",
            "Digite o coeficiente x1: 1\n",
            "Digite o coeficiente x2: 1\n",
            "------ Restrição 2 ------\n",
            "Digite o coeficiente x1: -1\n",
            "Digite o coeficiente x2: 1\n",
            "------ Restrição 3 ------\n",
            "Digite o coeficiente x1: 6\n",
            "Digite o coeficiente x2: 2\n"
          ]
        }
      ]
    },
    {
      "cell_type": "code",
      "source": [
        "#Coeficientes das restrições (lado direito da desigualdade ou igualdade)\n",
        "vetor_b = []\n",
        "for c in range(qtd_r):\n",
        "  print(f'------ Restrição {c+1} ------')\n",
        "  valor_b = float(input(f'Digite o coeficiente b{c+1}: '))\n",
        "  vetor_b.append(valor_b)"
      ],
      "metadata": {
        "colab": {
          "base_uri": "https://localhost:8080/"
        },
        "id": "TU0oHIi-iuez",
        "outputId": "92686dd3-6dc7-4156-cace-e994ce3472ce"
      },
      "execution_count": null,
      "outputs": [
        {
          "name": "stdout",
          "output_type": "stream",
          "text": [
            "------ Restrição 1 ------\n",
            "Digite o coeficiente b1: 5\n",
            "------ Restrição 2 ------\n",
            "Digite o coeficiente b2: 0\n",
            "------ Restrição 3 ------\n",
            "Digite o coeficiente b3: 21\n"
          ]
        }
      ]
    },
    {
      "cell_type": "code",
      "source": [
        "#Limite inferior das variaveis do problema\n",
        "limites_var = []\n",
        "for c in range(qtd_c):\n",
        "   valor_limite_inf = float(input(f'Digite o limite inferior x{c+1}: '))\n",
        "   limites_var.append((valor_limite_inf, None))"
      ],
      "metadata": {
        "colab": {
          "base_uri": "https://localhost:8080/"
        },
        "id": "DGZys9VQlNGA",
        "outputId": "9cd73b58-4f1a-4625-dfd1-e6f1438cc8c3"
      },
      "execution_count": null,
      "outputs": [
        {
          "name": "stdout",
          "output_type": "stream",
          "text": [
            "Digite o limite inferior x1: 0\n",
            "Digite o limite inferior x2: 0\n"
          ]
        }
      ]
    },
    {
      "cell_type": "code",
      "source": [
        "# Primeira solução do simplex\n",
        "res = linprog(vetor_c, A_ub=vetor_r, b_ub=vetor_b, bounds=limites_var, method='simplex')\n",
        "x_res = res.x[:]"
      ],
      "metadata": {
        "colab": {
          "base_uri": "https://localhost:8080/"
        },
        "id": "FCQIL4lsoH_t",
        "outputId": "e7f6812f-958c-448b-d9c8-03f9c177c43f"
      },
      "execution_count": null,
      "outputs": [
        {
          "output_type": "stream",
          "name": "stderr",
          "text": [
            "<ipython-input-19-6e3b17c612fe>:2: DeprecationWarning: `method='simplex'` is deprecated and will be removed in SciPy 1.11.0. Please use one of the HiGHS solvers (e.g. `method='highs'`) in new code.\n",
            "  res = linprog(vetor_c, A_ub=vetor_r, b_ub=vetor_b, bounds=limites_var, method='simplex')\n"
          ]
        }
      ]
    },
    {
      "cell_type": "markdown",
      "source": [
        "##Em busca da solução inteira"
      ],
      "metadata": {
        "id": "R87zxHroi2gD"
      }
    },
    {
      "cell_type": "code",
      "source": [
        "#Passo 1: verificar se a primeira solução encontrada já é inteira\n",
        "count = 0\n",
        "for c in range(qtd_c):\n",
        "  if (x_res[c] == int(x_res[c])):\n",
        "    count = count + 1\n",
        "if count == qtd_c:\n",
        "#Se a primeira solução já for inteira o problema está resolvido\n",
        "  print(f'Solução ótima: {res.fun}')\n",
        "  print(f'Vetor x: {x_res}')\n",
        "  print(f'Ramificações B&B: {0}')\n",
        "else:\n",
        "#Se não --> Passo 2: algoritmo B&B\n",
        "\n",
        "  #Define limite superior\n",
        "  if tipo_problema.upper() == 'N':\n",
        "    LS = res.fun*(-1)\n",
        "  else:\n",
        "    LS = res.fun\n",
        "  LI = 0\n",
        "\n",
        "  print('########################')\n",
        "  x_vetor, v_fun, ciclo = branch_and_bound(x_res, LS, LI, vetor_c, vetor_r, vetor_b, limites_var) # calcula a solução inteira\n",
        "  print(f'Solução ótima: {v_fun}')\n",
        "  print(f'Vetor x: {x_vetor}')\n",
        "  print(f'Ramificações B&B: {ciclo}')\n",
        "  print('########################')\n"
      ],
      "metadata": {
        "id": "RaZ2SKTxtpJg",
        "colab": {
          "base_uri": "https://localhost:8080/"
        },
        "outputId": "7210eaf8-0eb2-4108-8021-99c8e12f4506"
      },
      "execution_count": null,
      "outputs": [
        {
          "output_type": "stream",
          "name": "stdout",
          "text": [
            "########################\n",
            "Solução ótima: -7.0\n",
            "Vetor x: [3. 1.]\n",
            "Ramificações B&B: 7\n",
            "########################\n"
          ]
        },
        {
          "output_type": "stream",
          "name": "stderr",
          "text": [
            "<ipython-input-2-775bd5fa38e0>:68: DeprecationWarning: `method='simplex'` is deprecated and will be removed in SciPy 1.11.0. Please use one of the HiGHS solvers (e.g. `method='highs'`) in new code.\n",
            "  res1 = linprog(vetor_c, A_ub=vetor_r1, b_ub=vetor_b1, bounds=limites_var, method='simplex')\n",
            "<ipython-input-2-775bd5fa38e0>:69: DeprecationWarning: `method='simplex'` is deprecated and will be removed in SciPy 1.11.0. Please use one of the HiGHS solvers (e.g. `method='highs'`) in new code.\n",
            "  res2 = linprog(vetor_c, A_ub=vetor_r2, b_ub=vetor_b2, bounds=limites_var, method='simplex')\n",
            "<ipython-input-2-775bd5fa38e0>:99: DeprecationWarning: `method='simplex'` is deprecated and will be removed in SciPy 1.11.0. Please use one of the HiGHS solvers (e.g. `method='highs'`) in new code.\n",
            "  res1 = linprog(vetor_c, A_ub=vetor_r_aux1, b_ub=vetor_b_aux1, bounds=limites_var, method='simplex')\n",
            "<ipython-input-2-775bd5fa38e0>:100: DeprecationWarning: `method='simplex'` is deprecated and will be removed in SciPy 1.11.0. Please use one of the HiGHS solvers (e.g. `method='highs'`) in new code.\n",
            "  res2 = linprog(vetor_c, A_ub=vetor_r_aux2, b_ub=vetor_b_aux2, bounds=limites_var, method='simplex')\n"
          ]
        }
      ]
    }
  ]
}